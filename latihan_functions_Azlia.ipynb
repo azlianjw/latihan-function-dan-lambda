{
  "nbformat": 4,
  "nbformat_minor": 0,
  "metadata": {
    "colab": {
      "provenance": []
    },
    "kernelspec": {
      "name": "python3",
      "display_name": "Python 3"
    },
    "language_info": {
      "name": "python"
    }
  },
  "cells": [
    {
      "cell_type": "code",
      "execution_count": null,
      "metadata": {
        "colab": {
          "base_uri": "https://localhost:8080/"
        },
        "id": "lAOWM1J0lEE2",
        "outputId": "e693ec80-5e73-4024-cf37-3cd5235f1e70"
      },
      "outputs": [
        {
          "output_type": "execute_result",
          "data": {
            "text/plain": [
              "15.0"
            ]
          },
          "metadata": {},
          "execution_count": 8
        }
      ],
      "source": [
        "# Pythagoras\n",
        "# x = alas segitiga dan y = tinggi segitiga\n",
        "def sisi_miring(x,y):\n",
        "  z = (x**2 + y**2)**(1/2)\n",
        "  return z\n",
        "\n",
        "sisi_miring(9,12)"
      ]
    },
    {
      "cell_type": "code",
      "source": [
        "# Luas permukaan balok\n",
        "# p = panjang, l = lebar, t = tinggi\n",
        "def luas_permukaan(p,l,t):\n",
        "    a = 2*(p*l) + 2*(p*t) + 2*(l*t)\n",
        "    return a\n",
        "\n",
        "luas_permukaan(4,7,8)"
      ],
      "metadata": {
        "colab": {
          "base_uri": "https://localhost:8080/"
        },
        "id": "qCj2rOqPlbIJ",
        "outputId": "fb4768de-7f60-4769-b2e6-717f346e91cd"
      },
      "execution_count": null,
      "outputs": [
        {
          "output_type": "execute_result",
          "data": {
            "text/plain": [
              "232"
            ]
          },
          "metadata": {},
          "execution_count": 10
        }
      ]
    }
  ]
}