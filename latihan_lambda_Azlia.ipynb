{
  "nbformat": 4,
  "nbformat_minor": 0,
  "metadata": {
    "colab": {
      "provenance": []
    },
    "kernelspec": {
      "name": "python3",
      "display_name": "Python 3"
    },
    "language_info": {
      "name": "python"
    }
  },
  "cells": [
    {
      "cell_type": "code",
      "source": [
        "# Luas Persegi Panjang\n",
        "Luas_Persegi_Panjang = lambda p,l: print(f\"Luas Persegi Panjang = {p*l} cm\")\n",
        "Luas_Persegi_Panjang(2,4)"
      ],
      "metadata": {
        "colab": {
          "base_uri": "https://localhost:8080/"
        },
        "id": "uaZwXaRAHEDe",
        "outputId": "c9f99368-d27d-4b82-c3c7-aab3d73711d7"
      },
      "execution_count": 1,
      "outputs": [
        {
          "output_type": "stream",
          "name": "stdout",
          "text": [
            "Luas Persegi Panjang = 8 cm\n"
          ]
        }
      ]
    },
    {
      "cell_type": "code",
      "source": [
        "# Luas Segitiga\n",
        "Luas_Segitiga = lambda a,t: print(f\"Luas Segitiga = {1/2*a*t} cm\")\n",
        "Luas_Segitiga(8,10)"
      ],
      "metadata": {
        "colab": {
          "base_uri": "https://localhost:8080/"
        },
        "id": "_rvLr119HIod",
        "outputId": "25f651bf-3444-4ddc-c350-c75945553bc9"
      },
      "execution_count": 2,
      "outputs": [
        {
          "output_type": "stream",
          "name": "stdout",
          "text": [
            "Luas Segitiga = 40.0 cm\n"
          ]
        }
      ]
    }
  ]
}